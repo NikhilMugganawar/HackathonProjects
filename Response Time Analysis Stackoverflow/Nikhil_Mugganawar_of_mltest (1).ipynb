{
  "nbformat": 4,
  "nbformat_minor": 0,
  "metadata": {
    "colab": {
      "name": "Nikhil Mugganawar of mltest.ipynb",
      "version": "0.3.2",
      "provenance": [],
      "collapsed_sections": []
    },
    "kernelspec": {
      "name": "python3",
      "display_name": "Python 3"
    }
  },
  "cells": [
    {
      "cell_type": "markdown",
      "metadata": {
        "id": "5LeU19FqIpaj",
        "colab_type": "text"
      },
      "source": [
        "## Please Run all the cells below before starting with model building"
      ]
    },
    {
      "cell_type": "markdown",
      "metadata": {
        "id": "BbrZSL4Ux_G7",
        "colab_type": "text"
      },
      "source": [
        "## Authenticate using your gmail id\n",
        "### Run the below cell. After running the cell one link will appear -> Click on Link -> login using your gmail id ->copy the code -> paste it in the box -> done"
      ]
    },
    {
      "cell_type": "code",
      "metadata": {
        "id": "6EZOCX0L9bH4",
        "colab_type": "code",
        "outputId": "4e499588-8ca2-4b77-8d92-4bbae62cf17e",
        "colab": {
          "base_uri": "https://localhost:8080/",
          "height": 34
        }
      },
      "source": [
        "from google.colab import auth\n",
        "auth.authenticate_user()\n",
        "print('Authenticated')"
      ],
      "execution_count": 73,
      "outputs": [
        {
          "output_type": "stream",
          "text": [
            "Authenticated\n"
          ],
          "name": "stdout"
        }
      ]
    },
    {
      "cell_type": "markdown",
      "metadata": {
        "id": "_NpqXhVlyMyc",
        "colab_type": "text"
      },
      "source": [
        "## Counting no. of rows in a table\n",
        "### Sample Code"
      ]
    },
    {
      "cell_type": "code",
      "metadata": {
        "id": "-ab83W-i962p",
        "colab_type": "code",
        "outputId": "1b2db592-dff7-4e0d-c481-249a5d8937f5",
        "colab": {
          "base_uri": "https://localhost:8080/",
          "height": 80
        }
      },
      "source": [
        "%%bigquery --project bq-storage-flask-app df\n",
        "SELECT \n",
        "  COUNT(*) as total_rows\n",
        "FROM `bigquery-public-data.stackoverflow.posts_questions`"
      ],
      "execution_count": 74,
      "outputs": [
        {
          "output_type": "execute_result",
          "data": {
            "text/html": [
              "<div>\n",
              "<style scoped>\n",
              "    .dataframe tbody tr th:only-of-type {\n",
              "        vertical-align: middle;\n",
              "    }\n",
              "\n",
              "    .dataframe tbody tr th {\n",
              "        vertical-align: top;\n",
              "    }\n",
              "\n",
              "    .dataframe thead th {\n",
              "        text-align: right;\n",
              "    }\n",
              "</style>\n",
              "<table border=\"1\" class=\"dataframe\">\n",
              "  <thead>\n",
              "    <tr style=\"text-align: right;\">\n",
              "      <th></th>\n",
              "      <th>total_rows</th>\n",
              "    </tr>\n",
              "  </thead>\n",
              "  <tbody>\n",
              "    <tr>\n",
              "      <th>0</th>\n",
              "      <td>17278709</td>\n",
              "    </tr>\n",
              "  </tbody>\n",
              "</table>\n",
              "</div>"
            ],
            "text/plain": [
              "   total_rows\n",
              "0    17278709"
            ]
          },
          "metadata": {
            "tags": []
          },
          "execution_count": 74
        }
      ]
    },
    {
      "cell_type": "markdown",
      "metadata": {
        "id": "wxAxTyFbyViS",
        "colab_type": "text"
      },
      "source": [
        "## Setting up project Id globally"
      ]
    },
    {
      "cell_type": "code",
      "metadata": {
        "id": "S6DEHP1TS_SQ",
        "colab_type": "code",
        "colab": {}
      },
      "source": [
        "project_id = 'bq-storage-flask-app'"
      ],
      "execution_count": 0,
      "outputs": []
    },
    {
      "cell_type": "markdown",
      "metadata": {
        "id": "wpKUue7ryYqb",
        "colab_type": "text"
      },
      "source": [
        "## Selecting approximately 2000 random rows from question dataset\n"
      ]
    },
    {
      "cell_type": "code",
      "metadata": {
        "id": "a_j2umFoPkcI",
        "colab_type": "code",
        "outputId": "835a5ca1-ac76-494c-b9a3-f35f546fa5fe",
        "colab": {
          "base_uri": "https://localhost:8080/",
          "height": 649
        }
      },
      "source": [
        "from google.cloud import bigquery\n",
        "\n",
        "client = bigquery.Client(project=project_id)\n",
        "\n",
        "sample_count = 2000\n",
        "row_count = client.query('''\n",
        "  SELECT \n",
        "    COUNT(*) as total\n",
        "  FROM `bigquery-public-data.stackoverflow.posts_questions`''').to_dataframe().total[0]\n",
        "\n",
        "df_questions = client.query('''\n",
        "  SELECT\n",
        "    *\n",
        "  FROM\n",
        "   `bigquery-public-data.stackoverflow.posts_questions`\n",
        "  WHERE RAND() < %d/%d\n",
        "''' % (sample_count, row_count)).to_dataframe()\n",
        "\n",
        "#print('Full dataset has %d rows' % row_count)\n",
        "df_questions.head()"
      ],
      "execution_count": 76,
      "outputs": [
        {
          "output_type": "execute_result",
          "data": {
            "text/html": [
              "<div>\n",
              "<style scoped>\n",
              "    .dataframe tbody tr th:only-of-type {\n",
              "        vertical-align: middle;\n",
              "    }\n",
              "\n",
              "    .dataframe tbody tr th {\n",
              "        vertical-align: top;\n",
              "    }\n",
              "\n",
              "    .dataframe thead th {\n",
              "        text-align: right;\n",
              "    }\n",
              "</style>\n",
              "<table border=\"1\" class=\"dataframe\">\n",
              "  <thead>\n",
              "    <tr style=\"text-align: right;\">\n",
              "      <th></th>\n",
              "      <th>id</th>\n",
              "      <th>title</th>\n",
              "      <th>body</th>\n",
              "      <th>accepted_answer_id</th>\n",
              "      <th>answer_count</th>\n",
              "      <th>comment_count</th>\n",
              "      <th>community_owned_date</th>\n",
              "      <th>creation_date</th>\n",
              "      <th>favorite_count</th>\n",
              "      <th>last_activity_date</th>\n",
              "      <th>last_edit_date</th>\n",
              "      <th>last_editor_display_name</th>\n",
              "      <th>last_editor_user_id</th>\n",
              "      <th>owner_display_name</th>\n",
              "      <th>owner_user_id</th>\n",
              "      <th>post_type_id</th>\n",
              "      <th>score</th>\n",
              "      <th>tags</th>\n",
              "      <th>view_count</th>\n",
              "    </tr>\n",
              "  </thead>\n",
              "  <tbody>\n",
              "    <tr>\n",
              "      <th>0</th>\n",
              "      <td>27219473</td>\n",
              "      <td>OOP in javascript: the \"this\" scope changes wh...</td>\n",
              "      <td>&lt;p&gt;I am coding a javascript program using a ni...</td>\n",
              "      <td>NaN</td>\n",
              "      <td>0</td>\n",
              "      <td>4</td>\n",
              "      <td>None</td>\n",
              "      <td>2014-11-30 23:21:01.220000+00:00</td>\n",
              "      <td>NaN</td>\n",
              "      <td>2014-11-30 23:27:20.097000+00:00</td>\n",
              "      <td>2014-11-30 23:27:20.097000+00:00</td>\n",
              "      <td></td>\n",
              "      <td>740553</td>\n",
              "      <td></td>\n",
              "      <td>1e+06</td>\n",
              "      <td>1</td>\n",
              "      <td>0</td>\n",
              "      <td>javascript|oop|p5.js</td>\n",
              "      <td>29</td>\n",
              "    </tr>\n",
              "    <tr>\n",
              "      <th>1</th>\n",
              "      <td>6463484</td>\n",
              "      <td>iOS - loading xib from bundle in Documents dir...</td>\n",
              "      <td>&lt;p&gt;I've been working on getting \"custom skinna...</td>\n",
              "      <td>7e+06</td>\n",
              "      <td>4</td>\n",
              "      <td>0</td>\n",
              "      <td>None</td>\n",
              "      <td>2011-06-24 04:44:53.753000+00:00</td>\n",
              "      <td>5</td>\n",
              "      <td>2015-06-03 20:30:41.893000+00:00</td>\n",
              "      <td>2017-05-23 10:28:24.393000+00:00</td>\n",
              "      <td></td>\n",
              "      <td>-1</td>\n",
              "      <td></td>\n",
              "      <td>3e+05</td>\n",
              "      <td>1</td>\n",
              "      <td>8</td>\n",
              "      <td>ios|bundle</td>\n",
              "      <td>8737</td>\n",
              "    </tr>\n",
              "    <tr>\n",
              "      <th>2</th>\n",
              "      <td>16947181</td>\n",
              "      <td>Robolectric 2.0 not creating views when testing</td>\n",
              "      <td>&lt;p&gt;I'm trying to set up testing with robolectr...</td>\n",
              "      <td>NaN</td>\n",
              "      <td>2</td>\n",
              "      <td>0</td>\n",
              "      <td>None</td>\n",
              "      <td>2013-06-05 18:23:47.370000+00:00</td>\n",
              "      <td>NaN</td>\n",
              "      <td>2014-12-03 04:53:04.690000+00:00</td>\n",
              "      <td>2013-06-05 19:39:40.747000+00:00</td>\n",
              "      <td></td>\n",
              "      <td>728241</td>\n",
              "      <td></td>\n",
              "      <td>7e+05</td>\n",
              "      <td>1</td>\n",
              "      <td>4</td>\n",
              "      <td>robolectric|roboguice</td>\n",
              "      <td>408</td>\n",
              "    </tr>\n",
              "    <tr>\n",
              "      <th>3</th>\n",
              "      <td>1028383</td>\n",
              "      <td>Defining and using project variables in Java C...</td>\n",
              "      <td>&lt;p&gt;I'm trying to experiment with project varia...</td>\n",
              "      <td>NaN</td>\n",
              "      <td>1</td>\n",
              "      <td>1</td>\n",
              "      <td>None</td>\n",
              "      <td>2009-06-22 17:12:35.223000+00:00</td>\n",
              "      <td>1</td>\n",
              "      <td>2010-05-14 21:01:57.997000+00:00</td>\n",
              "      <td>NaT</td>\n",
              "      <td></td>\n",
              "      <td>NaN</td>\n",
              "      <td></td>\n",
              "      <td>1e+05</td>\n",
              "      <td>1</td>\n",
              "      <td>0</td>\n",
              "      <td>java|frameworks</td>\n",
              "      <td>288</td>\n",
              "    </tr>\n",
              "    <tr>\n",
              "      <th>4</th>\n",
              "      <td>48251035</td>\n",
              "      <td>C# Xamarin Placing EditText above ListView</td>\n",
              "      <td>&lt;p&gt;I want to place a SearchBox above my ListVi...</td>\n",
              "      <td>5e+07</td>\n",
              "      <td>1</td>\n",
              "      <td>0</td>\n",
              "      <td>None</td>\n",
              "      <td>2018-01-14 15:19:35.840000+00:00</td>\n",
              "      <td>NaN</td>\n",
              "      <td>2018-01-14 17:30:18.567000+00:00</td>\n",
              "      <td>NaT</td>\n",
              "      <td></td>\n",
              "      <td>NaN</td>\n",
              "      <td>user9198450</td>\n",
              "      <td>NaN</td>\n",
              "      <td>1</td>\n",
              "      <td>0</td>\n",
              "      <td>c#|visual-studio|listview|xamarin|android-edit...</td>\n",
              "      <td>36</td>\n",
              "    </tr>\n",
              "  </tbody>\n",
              "</table>\n",
              "</div>"
            ],
            "text/plain": [
              "         id                                              title  \\\n",
              "0  27219473  OOP in javascript: the \"this\" scope changes wh...   \n",
              "1   6463484  iOS - loading xib from bundle in Documents dir...   \n",
              "2  16947181    Robolectric 2.0 not creating views when testing   \n",
              "3   1028383  Defining and using project variables in Java C...   \n",
              "4  48251035         C# Xamarin Placing EditText above ListView   \n",
              "\n",
              "                                                body  accepted_answer_id  \\\n",
              "0  <p>I am coding a javascript program using a ni...                 NaN   \n",
              "1  <p>I've been working on getting \"custom skinna...               7e+06   \n",
              "2  <p>I'm trying to set up testing with robolectr...                 NaN   \n",
              "3  <p>I'm trying to experiment with project varia...                 NaN   \n",
              "4  <p>I want to place a SearchBox above my ListVi...               5e+07   \n",
              "\n",
              "   answer_count  comment_count community_owned_date  \\\n",
              "0             0              4                 None   \n",
              "1             4              0                 None   \n",
              "2             2              0                 None   \n",
              "3             1              1                 None   \n",
              "4             1              0                 None   \n",
              "\n",
              "                     creation_date  favorite_count  \\\n",
              "0 2014-11-30 23:21:01.220000+00:00             NaN   \n",
              "1 2011-06-24 04:44:53.753000+00:00               5   \n",
              "2 2013-06-05 18:23:47.370000+00:00             NaN   \n",
              "3 2009-06-22 17:12:35.223000+00:00               1   \n",
              "4 2018-01-14 15:19:35.840000+00:00             NaN   \n",
              "\n",
              "                last_activity_date                   last_edit_date  \\\n",
              "0 2014-11-30 23:27:20.097000+00:00 2014-11-30 23:27:20.097000+00:00   \n",
              "1 2015-06-03 20:30:41.893000+00:00 2017-05-23 10:28:24.393000+00:00   \n",
              "2 2014-12-03 04:53:04.690000+00:00 2013-06-05 19:39:40.747000+00:00   \n",
              "3 2010-05-14 21:01:57.997000+00:00                              NaT   \n",
              "4 2018-01-14 17:30:18.567000+00:00                              NaT   \n",
              "\n",
              "  last_editor_display_name  last_editor_user_id owner_display_name  \\\n",
              "0                                        740553                      \n",
              "1                                            -1                      \n",
              "2                                        728241                      \n",
              "3                                           NaN                      \n",
              "4                                           NaN        user9198450   \n",
              "\n",
              "   owner_user_id  post_type_id  score  \\\n",
              "0          1e+06             1      0   \n",
              "1          3e+05             1      8   \n",
              "2          7e+05             1      4   \n",
              "3          1e+05             1      0   \n",
              "4            NaN             1      0   \n",
              "\n",
              "                                                tags  view_count  \n",
              "0                               javascript|oop|p5.js          29  \n",
              "1                                         ios|bundle        8737  \n",
              "2                              robolectric|roboguice         408  \n",
              "3                                    java|frameworks         288  \n",
              "4  c#|visual-studio|listview|xamarin|android-edit...          36  "
            ]
          },
          "metadata": {
            "tags": []
          },
          "execution_count": 76
        }
      ]
    },
    {
      "cell_type": "markdown",
      "metadata": {
        "id": "lQdQ6QMMy619",
        "colab_type": "text"
      },
      "source": [
        "## Selecting approximately 2000 random rows from answer dataset"
      ]
    },
    {
      "cell_type": "code",
      "metadata": {
        "id": "T1ANJj14M31D",
        "colab_type": "code",
        "outputId": "33f35e25-775b-4008-cced-506ce267b941",
        "colab": {
          "base_uri": "https://localhost:8080/",
          "height": 309
        }
      },
      "source": [
        "from google.cloud import bigquery\n",
        "\n",
        "client = bigquery.Client(project=project_id)\n",
        "\n",
        "sample_count = 2000\n",
        "row_count = client.query('''\n",
        "  SELECT \n",
        "    COUNT(*) as total\n",
        "  FROM `bigquery-public-data.stackoverflow.posts_answers`''').to_dataframe().total[0]\n",
        "\n",
        "df_answers = client.query('''\n",
        "  SELECT\n",
        "    *\n",
        "  FROM\n",
        "    `bigquery-public-data.stackoverflow.posts_answers`\n",
        "  WHERE RAND() < %d/%d\n",
        "''' % (sample_count, row_count)).to_dataframe()\n",
        "\n",
        "df_answers.head()"
      ],
      "execution_count": 77,
      "outputs": [
        {
          "output_type": "execute_result",
          "data": {
            "text/html": [
              "<div>\n",
              "<style scoped>\n",
              "    .dataframe tbody tr th:only-of-type {\n",
              "        vertical-align: middle;\n",
              "    }\n",
              "\n",
              "    .dataframe tbody tr th {\n",
              "        vertical-align: top;\n",
              "    }\n",
              "\n",
              "    .dataframe thead th {\n",
              "        text-align: right;\n",
              "    }\n",
              "</style>\n",
              "<table border=\"1\" class=\"dataframe\">\n",
              "  <thead>\n",
              "    <tr style=\"text-align: right;\">\n",
              "      <th></th>\n",
              "      <th>id</th>\n",
              "      <th>body</th>\n",
              "      <th>comment_count</th>\n",
              "      <th>community_owned_date</th>\n",
              "      <th>creation_date</th>\n",
              "      <th>last_activity_date</th>\n",
              "      <th>last_edit_date</th>\n",
              "      <th>last_editor_display_name</th>\n",
              "      <th>last_editor_user_id</th>\n",
              "      <th>owner_display_name</th>\n",
              "      <th>owner_user_id</th>\n",
              "      <th>parent_id</th>\n",
              "      <th>post_type_id</th>\n",
              "      <th>score</th>\n",
              "      <th>tags</th>\n",
              "    </tr>\n",
              "  </thead>\n",
              "  <tbody>\n",
              "    <tr>\n",
              "      <th>0</th>\n",
              "      <td>47769770</td>\n",
              "      <td>&lt;pre&gt;&lt;code&gt;if (sender is Border b &amp;amp;&amp;amp; b...</td>\n",
              "      <td>0</td>\n",
              "      <td>NaT</td>\n",
              "      <td>2017-12-12 09:59:15.793000+00:00</td>\n",
              "      <td>2017-12-12 09:59:15.793000+00:00</td>\n",
              "      <td>NaT</td>\n",
              "      <td></td>\n",
              "      <td>NaN</td>\n",
              "      <td></td>\n",
              "      <td>2e+06</td>\n",
              "      <td>47769529</td>\n",
              "      <td>2</td>\n",
              "      <td>-1</td>\n",
              "      <td></td>\n",
              "    </tr>\n",
              "    <tr>\n",
              "      <th>1</th>\n",
              "      <td>46695374</td>\n",
              "      <td>&lt;p&gt;Using &lt;a href=\"http://api.jquery.com/hidden...</td>\n",
              "      <td>0</td>\n",
              "      <td>NaT</td>\n",
              "      <td>2017-10-11 18:40:23.930000+00:00</td>\n",
              "      <td>2017-10-11 18:40:23.930000+00:00</td>\n",
              "      <td>NaT</td>\n",
              "      <td></td>\n",
              "      <td>NaN</td>\n",
              "      <td></td>\n",
              "      <td>3e+06</td>\n",
              "      <td>46695217</td>\n",
              "      <td>2</td>\n",
              "      <td>1</td>\n",
              "      <td></td>\n",
              "    </tr>\n",
              "    <tr>\n",
              "      <th>2</th>\n",
              "      <td>28164020</td>\n",
              "      <td>&lt;p&gt;Try this :-&lt;/p&gt;\\n\\n&lt;pre&gt;&lt;code&gt;$sql = $sql ....</td>\n",
              "      <td>4</td>\n",
              "      <td>NaT</td>\n",
              "      <td>2015-01-27 05:47:18.047000+00:00</td>\n",
              "      <td>2015-01-27 05:47:18.047000+00:00</td>\n",
              "      <td>NaT</td>\n",
              "      <td></td>\n",
              "      <td>NaN</td>\n",
              "      <td></td>\n",
              "      <td>4e+06</td>\n",
              "      <td>28163845</td>\n",
              "      <td>2</td>\n",
              "      <td>0</td>\n",
              "      <td></td>\n",
              "    </tr>\n",
              "    <tr>\n",
              "      <th>3</th>\n",
              "      <td>7731980</td>\n",
              "      <td>&lt;p&gt;My answer: @jdavies solution is right. I wa...</td>\n",
              "      <td>0</td>\n",
              "      <td>NaT</td>\n",
              "      <td>2011-10-11 20:17:39.397000+00:00</td>\n",
              "      <td>2011-10-11 20:17:39.397000+00:00</td>\n",
              "      <td>NaT</td>\n",
              "      <td></td>\n",
              "      <td>NaN</td>\n",
              "      <td></td>\n",
              "      <td>8e+05</td>\n",
              "      <td>7678699</td>\n",
              "      <td>2</td>\n",
              "      <td>0</td>\n",
              "      <td></td>\n",
              "    </tr>\n",
              "    <tr>\n",
              "      <th>4</th>\n",
              "      <td>52793089</td>\n",
              "      <td>&lt;p&gt;@Pawel Szczur\\nHave you tried your formula ...</td>\n",
              "      <td>0</td>\n",
              "      <td>NaT</td>\n",
              "      <td>2018-10-13 12:47:24.480000+00:00</td>\n",
              "      <td>2018-10-13 12:47:24.480000+00:00</td>\n",
              "      <td>NaT</td>\n",
              "      <td></td>\n",
              "      <td>NaN</td>\n",
              "      <td></td>\n",
              "      <td>9e+06</td>\n",
              "      <td>41048968</td>\n",
              "      <td>2</td>\n",
              "      <td>0</td>\n",
              "      <td></td>\n",
              "    </tr>\n",
              "  </tbody>\n",
              "</table>\n",
              "</div>"
            ],
            "text/plain": [
              "         id                                               body  comment_count  \\\n",
              "0  47769770  <pre><code>if (sender is Border b &amp;&amp; b...              0   \n",
              "1  46695374  <p>Using <a href=\"http://api.jquery.com/hidden...              0   \n",
              "2  28164020  <p>Try this :-</p>\\n\\n<pre><code>$sql = $sql ....              4   \n",
              "3   7731980  <p>My answer: @jdavies solution is right. I wa...              0   \n",
              "4  52793089  <p>@Pawel Szczur\\nHave you tried your formula ...              0   \n",
              "\n",
              "  community_owned_date                    creation_date  \\\n",
              "0                  NaT 2017-12-12 09:59:15.793000+00:00   \n",
              "1                  NaT 2017-10-11 18:40:23.930000+00:00   \n",
              "2                  NaT 2015-01-27 05:47:18.047000+00:00   \n",
              "3                  NaT 2011-10-11 20:17:39.397000+00:00   \n",
              "4                  NaT 2018-10-13 12:47:24.480000+00:00   \n",
              "\n",
              "                last_activity_date last_edit_date last_editor_display_name  \\\n",
              "0 2017-12-12 09:59:15.793000+00:00            NaT                            \n",
              "1 2017-10-11 18:40:23.930000+00:00            NaT                            \n",
              "2 2015-01-27 05:47:18.047000+00:00            NaT                            \n",
              "3 2011-10-11 20:17:39.397000+00:00            NaT                            \n",
              "4 2018-10-13 12:47:24.480000+00:00            NaT                            \n",
              "\n",
              "   last_editor_user_id owner_display_name  owner_user_id  parent_id  \\\n",
              "0                  NaN                             2e+06   47769529   \n",
              "1                  NaN                             3e+06   46695217   \n",
              "2                  NaN                             4e+06   28163845   \n",
              "3                  NaN                             8e+05    7678699   \n",
              "4                  NaN                             9e+06   41048968   \n",
              "\n",
              "   post_type_id  score tags  \n",
              "0             2     -1       \n",
              "1             2      1       \n",
              "2             2      0       \n",
              "3             2      0       \n",
              "4             2      0       "
            ]
          },
          "metadata": {
            "tags": []
          },
          "execution_count": 77
        }
      ]
    },
    {
      "cell_type": "markdown",
      "metadata": {
        "id": "bd7_5QDc-INd",
        "colab_type": "text"
      },
      "source": [
        "## Merging the 2 datasets (Questions and Answers)\n",
        "Note : Only 1 month data has been taken here (i.e. '2018-12-01' and '2019-01-01'). You can change the date range between July 2008 to March 2019. (Date Format: \"yyyy-mm-dd\")"
      ]
    },
    {
      "cell_type": "code",
      "metadata": {
        "id": "aADBpa_5b6WI",
        "colab_type": "code",
        "colab": {}
      },
      "source": [
        "from google.cloud import bigquery\n",
        "\n",
        "client = bigquery.Client(project=project_id)\n",
        "\n",
        "\n",
        "df = client.query('''\n",
        "Select \n",
        "b.id as question_id, a.id as answer_id, title,b.body as question_body,a.body as answer_body,a.body accepted_answer_id, \n",
        "answer_count, b.comment_count as que_comment_count, a.comment_count as ans_comment_count, b.community_owned_date, b.creation_date as que_creation_date,a.creation_date as ans_creation_date, b.favorite_count, b.last_activity_date, b.last_edit_date as que_last_edit_date, \n",
        "a.last_edit_date as ans_last_edit_date, b.last_editor_display_name, b.last_editor_user_id,b.owner_user_id, b.post_type_id, b.score as que_score,a.score as ans_score, \n",
        "b.tags as que_tags,a.tags as ans_tags, view_count as que_view_count\n",
        "\n",
        "from\n",
        "(SELECT * FROM `bigquery-public-data.stackoverflow.posts_answers` \n",
        "where date(creation_date) between '2018-12-01' and '2019-01-01') as a\n",
        "left join\n",
        "(SELECT * FROM `bigquery-public-data.stackoverflow.posts_questions` \n",
        "where date(creation_date) between '2018-12-01' and '2019-01-01') as b\n",
        "\n",
        "on a.parent_id = b.id\n",
        "\n",
        "''').to_dataframe()\n",
        "\n",
        "#df.head()\n",
        "\n"
      ],
      "execution_count": 0,
      "outputs": []
    },
    {
      "cell_type": "markdown",
      "metadata": {
        "id": "G0EWz8U3gPjn",
        "colab_type": "text"
      },
      "source": [
        "## Continue building your ML Model...All the Best!!"
      ]
    },
    {
      "cell_type": "code",
      "metadata": {
        "id": "-QN7CLZGgd01",
        "colab_type": "code",
        "outputId": "1cba650b-3f2d-4acc-b479-2eac3959125c",
        "colab": {
          "base_uri": "https://localhost:8080/",
          "height": 153
        }
      },
      "source": [
        "#view the columns present in dataset\n",
        "df.columns\n"
      ],
      "execution_count": 79,
      "outputs": [
        {
          "output_type": "execute_result",
          "data": {
            "text/plain": [
              "Index(['question_id', 'answer_id', 'title', 'question_body', 'answer_body',\n",
              "       'accepted_answer_id', 'answer_count', 'que_comment_count',\n",
              "       'ans_comment_count', 'community_owned_date', 'que_creation_date',\n",
              "       'ans_creation_date', 'favorite_count', 'last_activity_date',\n",
              "       'que_last_edit_date', 'ans_last_edit_date', 'last_editor_display_name',\n",
              "       'last_editor_user_id', 'owner_user_id', 'post_type_id', 'que_score',\n",
              "       'ans_score', 'que_tags', 'ans_tags', 'que_view_count'],\n",
              "      dtype='object')"
            ]
          },
          "metadata": {
            "tags": []
          },
          "execution_count": 79
        }
      ]
    },
    {
      "cell_type": "markdown",
      "metadata": {
        "id": "JdaP68sXpvDG",
        "colab_type": "text"
      },
      "source": [
        " **Understanding the problem statement we can consider model building to see if probability of question being answered within 1 week depends  on any one or all of the following:\n",
        "1)Model dependent on  the most frequent first word of the question\n",
        "2)Model dependent on day of the week\n",
        "3)Model dependent on the hour of the day of the week\n",
        "4)Model dependent on length of question\n",
        "Here in our study we will consider points 2 & 3 from above**"
      ]
    },
    {
      "cell_type": "markdown",
      "metadata": {
        "id": "qiI8wQddRn9a",
        "colab_type": "text"
      },
      "source": [
        "**Calculate Time between question and first answer in minutes** \n"
      ]
    },
    {
      "cell_type": "code",
      "metadata": {
        "id": "uUxw_4YkRO51",
        "colab_type": "code",
        "colab": {}
      },
      "source": [
        "#Select columns of interest\n",
        "df_interest=df[['que_creation_date','ans_creation_date']]"
      ],
      "execution_count": 0,
      "outputs": []
    },
    {
      "cell_type": "code",
      "metadata": {
        "id": "pgeI9RKySdB_",
        "colab_type": "code",
        "outputId": "620bf848-f3f5-4470-d910-4a2c4b94dc02",
        "colab": {
          "base_uri": "https://localhost:8080/",
          "height": 204
        }
      },
      "source": [
        "df_interest.head()"
      ],
      "execution_count": 81,
      "outputs": [
        {
          "output_type": "execute_result",
          "data": {
            "text/html": [
              "<div>\n",
              "<style scoped>\n",
              "    .dataframe tbody tr th:only-of-type {\n",
              "        vertical-align: middle;\n",
              "    }\n",
              "\n",
              "    .dataframe tbody tr th {\n",
              "        vertical-align: top;\n",
              "    }\n",
              "\n",
              "    .dataframe thead th {\n",
              "        text-align: right;\n",
              "    }\n",
              "</style>\n",
              "<table border=\"1\" class=\"dataframe\">\n",
              "  <thead>\n",
              "    <tr style=\"text-align: right;\">\n",
              "      <th></th>\n",
              "      <th>que_creation_date</th>\n",
              "      <th>ans_creation_date</th>\n",
              "    </tr>\n",
              "  </thead>\n",
              "  <tbody>\n",
              "    <tr>\n",
              "      <th>0</th>\n",
              "      <td>2018-12-12 02:58:07.550000+00:00</td>\n",
              "      <td>2018-12-12 03:52:26.503000+00:00</td>\n",
              "    </tr>\n",
              "    <tr>\n",
              "      <th>1</th>\n",
              "      <td>2018-12-26 03:12:12.687000+00:00</td>\n",
              "      <td>2018-12-26 03:22:53.747000+00:00</td>\n",
              "    </tr>\n",
              "    <tr>\n",
              "      <th>2</th>\n",
              "      <td>2018-12-11 10:56:41.043000+00:00</td>\n",
              "      <td>2018-12-11 11:08:34.563000+00:00</td>\n",
              "    </tr>\n",
              "    <tr>\n",
              "      <th>3</th>\n",
              "      <td>2018-12-03 07:02:32.037000+00:00</td>\n",
              "      <td>2018-12-03 07:45:04.717000+00:00</td>\n",
              "    </tr>\n",
              "    <tr>\n",
              "      <th>4</th>\n",
              "      <td>2018-12-03 08:16:21.460000+00:00</td>\n",
              "      <td>2018-12-03 08:23:45.377000+00:00</td>\n",
              "    </tr>\n",
              "  </tbody>\n",
              "</table>\n",
              "</div>"
            ],
            "text/plain": [
              "                 que_creation_date                ans_creation_date\n",
              "0 2018-12-12 02:58:07.550000+00:00 2018-12-12 03:52:26.503000+00:00\n",
              "1 2018-12-26 03:12:12.687000+00:00 2018-12-26 03:22:53.747000+00:00\n",
              "2 2018-12-11 10:56:41.043000+00:00 2018-12-11 11:08:34.563000+00:00\n",
              "3 2018-12-03 07:02:32.037000+00:00 2018-12-03 07:45:04.717000+00:00\n",
              "4 2018-12-03 08:16:21.460000+00:00 2018-12-03 08:23:45.377000+00:00"
            ]
          },
          "metadata": {
            "tags": []
          },
          "execution_count": 81
        }
      ]
    },
    {
      "cell_type": "code",
      "metadata": {
        "id": "QvWT2wIsTOJE",
        "colab_type": "code",
        "outputId": "7006d5a9-3a0e-46af-eadb-8b0cf2936787",
        "colab": {
          "base_uri": "https://localhost:8080/",
          "height": 306
        }
      },
      "source": [
        "df_interest['timeDifference']=df_interest['ans_creation_date']-df_interest['que_creation_date']\n",
        "df_interest.head()"
      ],
      "execution_count": 82,
      "outputs": [
        {
          "output_type": "stream",
          "text": [
            "/usr/local/lib/python3.6/dist-packages/ipykernel_launcher.py:1: SettingWithCopyWarning: \n",
            "A value is trying to be set on a copy of a slice from a DataFrame.\n",
            "Try using .loc[row_indexer,col_indexer] = value instead\n",
            "\n",
            "See the caveats in the documentation: http://pandas.pydata.org/pandas-docs/stable/indexing.html#indexing-view-versus-copy\n",
            "  \"\"\"Entry point for launching an IPython kernel.\n"
          ],
          "name": "stderr"
        },
        {
          "output_type": "execute_result",
          "data": {
            "text/html": [
              "<div>\n",
              "<style scoped>\n",
              "    .dataframe tbody tr th:only-of-type {\n",
              "        vertical-align: middle;\n",
              "    }\n",
              "\n",
              "    .dataframe tbody tr th {\n",
              "        vertical-align: top;\n",
              "    }\n",
              "\n",
              "    .dataframe thead th {\n",
              "        text-align: right;\n",
              "    }\n",
              "</style>\n",
              "<table border=\"1\" class=\"dataframe\">\n",
              "  <thead>\n",
              "    <tr style=\"text-align: right;\">\n",
              "      <th></th>\n",
              "      <th>que_creation_date</th>\n",
              "      <th>ans_creation_date</th>\n",
              "      <th>timeDifference</th>\n",
              "    </tr>\n",
              "  </thead>\n",
              "  <tbody>\n",
              "    <tr>\n",
              "      <th>0</th>\n",
              "      <td>2018-12-12 02:58:07.550000+00:00</td>\n",
              "      <td>2018-12-12 03:52:26.503000+00:00</td>\n",
              "      <td>00:54:18.953000</td>\n",
              "    </tr>\n",
              "    <tr>\n",
              "      <th>1</th>\n",
              "      <td>2018-12-26 03:12:12.687000+00:00</td>\n",
              "      <td>2018-12-26 03:22:53.747000+00:00</td>\n",
              "      <td>00:10:41.060000</td>\n",
              "    </tr>\n",
              "    <tr>\n",
              "      <th>2</th>\n",
              "      <td>2018-12-11 10:56:41.043000+00:00</td>\n",
              "      <td>2018-12-11 11:08:34.563000+00:00</td>\n",
              "      <td>00:11:53.520000</td>\n",
              "    </tr>\n",
              "    <tr>\n",
              "      <th>3</th>\n",
              "      <td>2018-12-03 07:02:32.037000+00:00</td>\n",
              "      <td>2018-12-03 07:45:04.717000+00:00</td>\n",
              "      <td>00:42:32.680000</td>\n",
              "    </tr>\n",
              "    <tr>\n",
              "      <th>4</th>\n",
              "      <td>2018-12-03 08:16:21.460000+00:00</td>\n",
              "      <td>2018-12-03 08:23:45.377000+00:00</td>\n",
              "      <td>00:07:23.917000</td>\n",
              "    </tr>\n",
              "  </tbody>\n",
              "</table>\n",
              "</div>"
            ],
            "text/plain": [
              "                 que_creation_date                ans_creation_date  \\\n",
              "0 2018-12-12 02:58:07.550000+00:00 2018-12-12 03:52:26.503000+00:00   \n",
              "1 2018-12-26 03:12:12.687000+00:00 2018-12-26 03:22:53.747000+00:00   \n",
              "2 2018-12-11 10:56:41.043000+00:00 2018-12-11 11:08:34.563000+00:00   \n",
              "3 2018-12-03 07:02:32.037000+00:00 2018-12-03 07:45:04.717000+00:00   \n",
              "4 2018-12-03 08:16:21.460000+00:00 2018-12-03 08:23:45.377000+00:00   \n",
              "\n",
              "   timeDifference  \n",
              "0 00:54:18.953000  \n",
              "1 00:10:41.060000  \n",
              "2 00:11:53.520000  \n",
              "3 00:42:32.680000  \n",
              "4 00:07:23.917000  "
            ]
          },
          "metadata": {
            "tags": []
          },
          "execution_count": 82
        }
      ]
    },
    {
      "cell_type": "code",
      "metadata": {
        "id": "eoSwelYBZnBD",
        "colab_type": "code",
        "outputId": "5a47eb43-c47e-433d-fa78-a8f6e46e4fb2",
        "colab": {
          "base_uri": "https://localhost:8080/",
          "height": 119
        }
      },
      "source": [
        "#Convert time difference to minutes\n",
        "import numpy as np\n",
        "df_interest['timeDifference']=df_interest['timeDifference']/np.timedelta64(1,'m')"
      ],
      "execution_count": 83,
      "outputs": [
        {
          "output_type": "stream",
          "text": [
            "/usr/local/lib/python3.6/dist-packages/ipykernel_launcher.py:2: SettingWithCopyWarning: \n",
            "A value is trying to be set on a copy of a slice from a DataFrame.\n",
            "Try using .loc[row_indexer,col_indexer] = value instead\n",
            "\n",
            "See the caveats in the documentation: http://pandas.pydata.org/pandas-docs/stable/indexing.html#indexing-view-versus-copy\n",
            "  \n"
          ],
          "name": "stderr"
        }
      ]
    },
    {
      "cell_type": "code",
      "metadata": {
        "id": "qR_A8FeFaeLu",
        "colab_type": "code",
        "outputId": "88b69804-7846-467f-86b1-c84019941098",
        "colab": {
          "base_uri": "https://localhost:8080/",
          "height": 119
        }
      },
      "source": [
        "#round time difference to 2 decimals\n",
        "df_interest['timeDifference']=df_interest['timeDifference'].round()"
      ],
      "execution_count": 84,
      "outputs": [
        {
          "output_type": "stream",
          "text": [
            "/usr/local/lib/python3.6/dist-packages/ipykernel_launcher.py:1: SettingWithCopyWarning: \n",
            "A value is trying to be set on a copy of a slice from a DataFrame.\n",
            "Try using .loc[row_indexer,col_indexer] = value instead\n",
            "\n",
            "See the caveats in the documentation: http://pandas.pydata.org/pandas-docs/stable/indexing.html#indexing-view-versus-copy\n",
            "  \"\"\"Entry point for launching an IPython kernel.\n"
          ],
          "name": "stderr"
        }
      ]
    },
    {
      "cell_type": "code",
      "metadata": {
        "id": "fmeaStK1bE9S",
        "colab_type": "code",
        "colab": {}
      },
      "source": [
        "#set precision to zero\n",
        "import pandas as pd\n",
        "pd.set_option('precision', 0)"
      ],
      "execution_count": 0,
      "outputs": []
    },
    {
      "cell_type": "code",
      "metadata": {
        "id": "5_Utn9-9UrC1",
        "colab_type": "code",
        "outputId": "9662e5ec-ffe7-4f36-b12e-70ca19de32c1",
        "colab": {
          "base_uri": "https://localhost:8080/",
          "height": 204
        }
      },
      "source": [
        "df_interest.head()"
      ],
      "execution_count": 86,
      "outputs": [
        {
          "output_type": "execute_result",
          "data": {
            "text/html": [
              "<div>\n",
              "<style scoped>\n",
              "    .dataframe tbody tr th:only-of-type {\n",
              "        vertical-align: middle;\n",
              "    }\n",
              "\n",
              "    .dataframe tbody tr th {\n",
              "        vertical-align: top;\n",
              "    }\n",
              "\n",
              "    .dataframe thead th {\n",
              "        text-align: right;\n",
              "    }\n",
              "</style>\n",
              "<table border=\"1\" class=\"dataframe\">\n",
              "  <thead>\n",
              "    <tr style=\"text-align: right;\">\n",
              "      <th></th>\n",
              "      <th>que_creation_date</th>\n",
              "      <th>ans_creation_date</th>\n",
              "      <th>timeDifference</th>\n",
              "    </tr>\n",
              "  </thead>\n",
              "  <tbody>\n",
              "    <tr>\n",
              "      <th>0</th>\n",
              "      <td>2018-12-12 02:58:07.550000+00:00</td>\n",
              "      <td>2018-12-12 03:52:26.503000+00:00</td>\n",
              "      <td>54</td>\n",
              "    </tr>\n",
              "    <tr>\n",
              "      <th>1</th>\n",
              "      <td>2018-12-26 03:12:12.687000+00:00</td>\n",
              "      <td>2018-12-26 03:22:53.747000+00:00</td>\n",
              "      <td>11</td>\n",
              "    </tr>\n",
              "    <tr>\n",
              "      <th>2</th>\n",
              "      <td>2018-12-11 10:56:41.043000+00:00</td>\n",
              "      <td>2018-12-11 11:08:34.563000+00:00</td>\n",
              "      <td>12</td>\n",
              "    </tr>\n",
              "    <tr>\n",
              "      <th>3</th>\n",
              "      <td>2018-12-03 07:02:32.037000+00:00</td>\n",
              "      <td>2018-12-03 07:45:04.717000+00:00</td>\n",
              "      <td>43</td>\n",
              "    </tr>\n",
              "    <tr>\n",
              "      <th>4</th>\n",
              "      <td>2018-12-03 08:16:21.460000+00:00</td>\n",
              "      <td>2018-12-03 08:23:45.377000+00:00</td>\n",
              "      <td>7</td>\n",
              "    </tr>\n",
              "  </tbody>\n",
              "</table>\n",
              "</div>"
            ],
            "text/plain": [
              "                 que_creation_date                ans_creation_date  \\\n",
              "0 2018-12-12 02:58:07.550000+00:00 2018-12-12 03:52:26.503000+00:00   \n",
              "1 2018-12-26 03:12:12.687000+00:00 2018-12-26 03:22:53.747000+00:00   \n",
              "2 2018-12-11 10:56:41.043000+00:00 2018-12-11 11:08:34.563000+00:00   \n",
              "3 2018-12-03 07:02:32.037000+00:00 2018-12-03 07:45:04.717000+00:00   \n",
              "4 2018-12-03 08:16:21.460000+00:00 2018-12-03 08:23:45.377000+00:00   \n",
              "\n",
              "   timeDifference  \n",
              "0              54  \n",
              "1              11  \n",
              "2              12  \n",
              "3              43  \n",
              "4               7  "
            ]
          },
          "metadata": {
            "tags": []
          },
          "execution_count": 86
        }
      ]
    },
    {
      "cell_type": "markdown",
      "metadata": {
        "id": "dN2I3723HUw9",
        "colab_type": "text"
      },
      "source": [
        "**Get Hour of Question Creation and Day of the week for Question Creation** "
      ]
    },
    {
      "cell_type": "code",
      "metadata": {
        "id": "0tHJPLbWHe95",
        "colab_type": "code",
        "outputId": "ea569e38-cc78-4410-d393-eed3e73a2013",
        "colab": {
          "base_uri": "https://localhost:8080/",
          "height": 221
        }
      },
      "source": [
        "import datetime,time\n",
        "df_interest['hourOfTheDay']=df_interest['que_creation_date'].apply(lambda time: time.hour)\n",
        "df_interest['dayOfWeek']=df_interest['que_creation_date'].apply(lambda time: time.dayofweek)"
      ],
      "execution_count": 87,
      "outputs": [
        {
          "output_type": "stream",
          "text": [
            "/usr/local/lib/python3.6/dist-packages/ipykernel_launcher.py:2: SettingWithCopyWarning: \n",
            "A value is trying to be set on a copy of a slice from a DataFrame.\n",
            "Try using .loc[row_indexer,col_indexer] = value instead\n",
            "\n",
            "See the caveats in the documentation: http://pandas.pydata.org/pandas-docs/stable/indexing.html#indexing-view-versus-copy\n",
            "  \n",
            "/usr/local/lib/python3.6/dist-packages/ipykernel_launcher.py:3: SettingWithCopyWarning: \n",
            "A value is trying to be set on a copy of a slice from a DataFrame.\n",
            "Try using .loc[row_indexer,col_indexer] = value instead\n",
            "\n",
            "See the caveats in the documentation: http://pandas.pydata.org/pandas-docs/stable/indexing.html#indexing-view-versus-copy\n",
            "  This is separate from the ipykernel package so we can avoid doing imports until\n"
          ],
          "name": "stderr"
        }
      ]
    },
    {
      "cell_type": "code",
      "metadata": {
        "id": "5YtGLlPPJOaP",
        "colab_type": "code",
        "outputId": "83bbcc9c-4d50-4c57-f113-b5930aeafd5c",
        "colab": {
          "base_uri": "https://localhost:8080/",
          "height": 204
        }
      },
      "source": [
        "df_interest.head()"
      ],
      "execution_count": 88,
      "outputs": [
        {
          "output_type": "execute_result",
          "data": {
            "text/html": [
              "<div>\n",
              "<style scoped>\n",
              "    .dataframe tbody tr th:only-of-type {\n",
              "        vertical-align: middle;\n",
              "    }\n",
              "\n",
              "    .dataframe tbody tr th {\n",
              "        vertical-align: top;\n",
              "    }\n",
              "\n",
              "    .dataframe thead th {\n",
              "        text-align: right;\n",
              "    }\n",
              "</style>\n",
              "<table border=\"1\" class=\"dataframe\">\n",
              "  <thead>\n",
              "    <tr style=\"text-align: right;\">\n",
              "      <th></th>\n",
              "      <th>que_creation_date</th>\n",
              "      <th>ans_creation_date</th>\n",
              "      <th>timeDifference</th>\n",
              "      <th>hourOfTheDay</th>\n",
              "      <th>dayOfWeek</th>\n",
              "    </tr>\n",
              "  </thead>\n",
              "  <tbody>\n",
              "    <tr>\n",
              "      <th>0</th>\n",
              "      <td>2018-12-12 02:58:07.550000+00:00</td>\n",
              "      <td>2018-12-12 03:52:26.503000+00:00</td>\n",
              "      <td>54</td>\n",
              "      <td>2</td>\n",
              "      <td>2</td>\n",
              "    </tr>\n",
              "    <tr>\n",
              "      <th>1</th>\n",
              "      <td>2018-12-26 03:12:12.687000+00:00</td>\n",
              "      <td>2018-12-26 03:22:53.747000+00:00</td>\n",
              "      <td>11</td>\n",
              "      <td>3</td>\n",
              "      <td>2</td>\n",
              "    </tr>\n",
              "    <tr>\n",
              "      <th>2</th>\n",
              "      <td>2018-12-11 10:56:41.043000+00:00</td>\n",
              "      <td>2018-12-11 11:08:34.563000+00:00</td>\n",
              "      <td>12</td>\n",
              "      <td>10</td>\n",
              "      <td>1</td>\n",
              "    </tr>\n",
              "    <tr>\n",
              "      <th>3</th>\n",
              "      <td>2018-12-03 07:02:32.037000+00:00</td>\n",
              "      <td>2018-12-03 07:45:04.717000+00:00</td>\n",
              "      <td>43</td>\n",
              "      <td>7</td>\n",
              "      <td>0</td>\n",
              "    </tr>\n",
              "    <tr>\n",
              "      <th>4</th>\n",
              "      <td>2018-12-03 08:16:21.460000+00:00</td>\n",
              "      <td>2018-12-03 08:23:45.377000+00:00</td>\n",
              "      <td>7</td>\n",
              "      <td>8</td>\n",
              "      <td>0</td>\n",
              "    </tr>\n",
              "  </tbody>\n",
              "</table>\n",
              "</div>"
            ],
            "text/plain": [
              "                 que_creation_date                ans_creation_date  \\\n",
              "0 2018-12-12 02:58:07.550000+00:00 2018-12-12 03:52:26.503000+00:00   \n",
              "1 2018-12-26 03:12:12.687000+00:00 2018-12-26 03:22:53.747000+00:00   \n",
              "2 2018-12-11 10:56:41.043000+00:00 2018-12-11 11:08:34.563000+00:00   \n",
              "3 2018-12-03 07:02:32.037000+00:00 2018-12-03 07:45:04.717000+00:00   \n",
              "4 2018-12-03 08:16:21.460000+00:00 2018-12-03 08:23:45.377000+00:00   \n",
              "\n",
              "   timeDifference  hourOfTheDay  dayOfWeek  \n",
              "0              54             2          2  \n",
              "1              11             3          2  \n",
              "2              12            10          1  \n",
              "3              43             7          0  \n",
              "4               7             8          0  "
            ]
          },
          "metadata": {
            "tags": []
          },
          "execution_count": 88
        }
      ]
    },
    {
      "cell_type": "code",
      "metadata": {
        "id": "3thMbKrvpAKI",
        "colab_type": "code",
        "outputId": "3dd67892-29ed-4c83-d488-0a2e165a59a5",
        "colab": {
          "base_uri": "https://localhost:8080/",
          "height": 34
        }
      },
      "source": [
        "#check the maximum time difference\n",
        "df_interest.timeDifference.max()"
      ],
      "execution_count": 89,
      "outputs": [
        {
          "output_type": "execute_result",
          "data": {
            "text/plain": [
              "44816.0"
            ]
          },
          "metadata": {
            "tags": []
          },
          "execution_count": 89
        }
      ]
    },
    {
      "cell_type": "markdown",
      "metadata": {
        "id": "btg5ZxcppxaQ",
        "colab_type": "text"
      },
      "source": [
        "**For a week the number of minutes is calculated as 24 * 60*7=10080** "
      ]
    },
    {
      "cell_type": "code",
      "metadata": {
        "id": "5kxYZteWp8jp",
        "colab_type": "code",
        "outputId": "6f61c355-653e-4acc-93b9-71a024491efb",
        "colab": {
          "base_uri": "https://localhost:8080/",
          "height": 119
        }
      },
      "source": [
        "df_interest['MoreThanOrLessThanWeek'] = [1 if x >=10080.0 else 0 for x in df_interest['timeDifference']] \n",
        "  "
      ],
      "execution_count": 90,
      "outputs": [
        {
          "output_type": "stream",
          "text": [
            "/usr/local/lib/python3.6/dist-packages/ipykernel_launcher.py:1: SettingWithCopyWarning: \n",
            "A value is trying to be set on a copy of a slice from a DataFrame.\n",
            "Try using .loc[row_indexer,col_indexer] = value instead\n",
            "\n",
            "See the caveats in the documentation: http://pandas.pydata.org/pandas-docs/stable/indexing.html#indexing-view-versus-copy\n",
            "  \"\"\"Entry point for launching an IPython kernel.\n"
          ],
          "name": "stderr"
        }
      ]
    },
    {
      "cell_type": "code",
      "metadata": {
        "id": "cQFjgFyLq5Pq",
        "colab_type": "code",
        "outputId": "203146d5-d9e8-4771-af7e-8f41527147f9",
        "colab": {
          "base_uri": "https://localhost:8080/",
          "height": 68
        }
      },
      "source": [
        "df_interest['MoreThanOrLessThanWeek'].value_counts()"
      ],
      "execution_count": 91,
      "outputs": [
        {
          "output_type": "execute_result",
          "data": {
            "text/plain": [
              "0    186633\n",
              "1      2857\n",
              "Name: MoreThanOrLessThanWeek, dtype: int64"
            ]
          },
          "metadata": {
            "tags": []
          },
          "execution_count": 91
        }
      ]
    },
    {
      "cell_type": "code",
      "metadata": {
        "id": "6AMh-kt6QVTI",
        "colab_type": "code",
        "outputId": "7789cdc9-4a9f-4604-e086-ede22444fe23",
        "colab": {
          "base_uri": "https://localhost:8080/",
          "height": 136
        }
      },
      "source": [
        "df_interest.isnull().sum()"
      ],
      "execution_count": 92,
      "outputs": [
        {
          "output_type": "execute_result",
          "data": {
            "text/plain": [
              "que_creation_date         39269\n",
              "ans_creation_date             0\n",
              "timeDifference            39269\n",
              "hourOfTheDay              39269\n",
              "dayOfWeek                 39269\n",
              "MoreThanOrLessThanWeek        0\n",
              "dtype: int64"
            ]
          },
          "metadata": {
            "tags": []
          },
          "execution_count": 92
        }
      ]
    },
    {
      "cell_type": "code",
      "metadata": {
        "id": "XczfVdOuQ7Qz",
        "colab_type": "code",
        "colab": {}
      },
      "source": [
        "#delete the NaN values\n",
        "df_interest=df_interest.dropna()"
      ],
      "execution_count": 0,
      "outputs": []
    },
    {
      "cell_type": "code",
      "metadata": {
        "id": "tetps_WURA7o",
        "colab_type": "code",
        "outputId": "9bf77853-0719-4775-e90a-f777c4f00636",
        "colab": {
          "base_uri": "https://localhost:8080/",
          "height": 136
        }
      },
      "source": [
        "df_interest.isnull().sum()"
      ],
      "execution_count": 94,
      "outputs": [
        {
          "output_type": "execute_result",
          "data": {
            "text/plain": [
              "que_creation_date         0\n",
              "ans_creation_date         0\n",
              "timeDifference            0\n",
              "hourOfTheDay              0\n",
              "dayOfWeek                 0\n",
              "MoreThanOrLessThanWeek    0\n",
              "dtype: int64"
            ]
          },
          "metadata": {
            "tags": []
          },
          "execution_count": 94
        }
      ]
    },
    {
      "cell_type": "code",
      "metadata": {
        "id": "FSrHxoPtUTLX",
        "colab_type": "code",
        "outputId": "a45b5eef-3457-48aa-b425-48ec1bab3719",
        "colab": {
          "base_uri": "https://localhost:8080/",
          "height": 68
        }
      },
      "source": [
        "#check the distribution of two classes\n",
        "df_interest['MoreThanOrLessThanWeek'].value_counts()"
      ],
      "execution_count": 95,
      "outputs": [
        {
          "output_type": "execute_result",
          "data": {
            "text/plain": [
              "0    147364\n",
              "1      2857\n",
              "Name: MoreThanOrLessThanWeek, dtype: int64"
            ]
          },
          "metadata": {
            "tags": []
          },
          "execution_count": 95
        }
      ]
    },
    {
      "cell_type": "code",
      "metadata": {
        "id": "e2m4dBTEJ6LK",
        "colab_type": "code",
        "colab": {}
      },
      "source": [
        "df_independent_pre=df_interest[['dayOfWeek','hourOfTheDay']]\n",
        "df_dependent_pre=df_interest[['MoreThanOrLessThanWeek']]"
      ],
      "execution_count": 0,
      "outputs": []
    },
    {
      "cell_type": "markdown",
      "metadata": {
        "id": "7LlKzgzX1Hdx",
        "colab_type": "text"
      },
      "source": [
        "**As above due to class imbalance implemented one of ways to handle class imbalance i.e 'Over-sampling followed by under-sampling'**"
      ]
    },
    {
      "cell_type": "code",
      "metadata": {
        "id": "IisLFkPVPYza",
        "colab_type": "code",
        "colab": {
          "base_uri": "https://localhost:8080/",
          "height": 71
        },
        "outputId": "f9e6dd06-5490-4550-d956-d976b12c4aba"
      },
      "source": [
        "from imblearn.combine import SMOTETomek\n",
        "\n",
        "smote = SMOTETomek(ratio='auto')\n",
        "df_independent, df_dependent = smote.fit_sample(df_independent_pre, df_dependent_pre)\n",
        "\n",
        "#plot_2d_space(X_sm, y_sm, 'SMOTE over-sampling')\n"
      ],
      "execution_count": 97,
      "outputs": [
        {
          "output_type": "stream",
          "text": [
            "/usr/local/lib/python3.6/dist-packages/sklearn/utils/validation.py:761: DataConversionWarning: A column-vector y was passed when a 1d array was expected. Please change the shape of y to (n_samples, ), for example using ravel().\n",
            "  y = column_or_1d(y, warn=True)\n"
          ],
          "name": "stderr"
        }
      ]
    },
    {
      "cell_type": "code",
      "metadata": {
        "id": "c-nW5IeDQBkv",
        "colab_type": "code",
        "outputId": "b279dd5d-85f6-481a-9ce3-ec6ea017e43c",
        "colab": {
          "base_uri": "https://localhost:8080/",
          "height": 34
        }
      },
      "source": [
        "df_independent.shape"
      ],
      "execution_count": 98,
      "outputs": [
        {
          "output_type": "execute_result",
          "data": {
            "text/plain": [
              "(294728, 2)"
            ]
          },
          "metadata": {
            "tags": []
          },
          "execution_count": 98
        }
      ]
    },
    {
      "cell_type": "code",
      "metadata": {
        "id": "D8BSi0fpgWo3",
        "colab_type": "code",
        "colab": {
          "base_uri": "https://localhost:8080/",
          "height": 34
        },
        "outputId": "76ef06d1-481d-47d8-e8d3-0dfd9df97151"
      },
      "source": [
        "df_dependent.shape"
      ],
      "execution_count": 99,
      "outputs": [
        {
          "output_type": "execute_result",
          "data": {
            "text/plain": [
              "(294728,)"
            ]
          },
          "metadata": {
            "tags": []
          },
          "execution_count": 99
        }
      ]
    },
    {
      "cell_type": "code",
      "metadata": {
        "id": "PwE0WYeHNWzU",
        "colab_type": "code",
        "colab": {}
      },
      "source": [
        "#Split the dataset into training and test set\n",
        "from sklearn.model_selection  import train_test_split\n",
        "X_train, X_test, y_train, y_test = train_test_split(df_independent, df_dependent, test_size = 0.3,random_state=1)"
      ],
      "execution_count": 0,
      "outputs": []
    },
    {
      "cell_type": "markdown",
      "metadata": {
        "id": "QLY7tnLhsoYk",
        "colab_type": "text"
      },
      "source": [
        "**Lets first build Multinomial Naive Bayes Model and evaluate its metrics**"
      ]
    },
    {
      "cell_type": "code",
      "metadata": {
        "id": "IV1dMx7qNd2v",
        "colab_type": "code",
        "outputId": "e2730d47-40b4-4a4e-969a-19f736d5b8e1",
        "colab": {
          "base_uri": "https://localhost:8080/",
          "height": 34
        }
      },
      "source": [
        "from sklearn.naive_bayes import MultinomialNB\n",
        "\n",
        "# instantiate bernoulli NB object\n",
        "bnb = MultinomialNB()\n",
        "\n",
        "# fit \n",
        "bnb.fit(X_train,y_train)\n",
        "\n",
        "# predict class\n",
        "y_pred_class = bnb.predict(X_test)\n",
        "\n",
        "# predict probability\n",
        "y_pred_proba =bnb.predict_proba(X_test)\n",
        "\n",
        "# accuracy\n",
        "from sklearn import metrics\n",
        "metrics.accuracy_score(y_test, y_pred_class)"
      ],
      "execution_count": 101,
      "outputs": [
        {
          "output_type": "execute_result",
          "data": {
            "text/plain": [
              "0.5049706511044006"
            ]
          },
          "metadata": {
            "tags": []
          },
          "execution_count": 101
        }
      ]
    },
    {
      "cell_type": "code",
      "metadata": {
        "id": "-0oy-dtERqsv",
        "colab_type": "code",
        "outputId": "5ebbb8e3-fdd7-4f91-c22b-4d20cccbe210",
        "colab": {
          "base_uri": "https://localhost:8080/",
          "height": 51
        }
      },
      "source": [
        "confusion = metrics.confusion_matrix(y_test, y_pred_class)\n",
        "print(confusion)\n",
        "#[row, column]\n",
        "TN = confusion[0, 0]\n",
        "FP = confusion[0, 1]\n",
        "FN = confusion[1, 0]\n",
        "TP = confusion[1, 1]"
      ],
      "execution_count": 102,
      "outputs": [
        {
          "output_type": "stream",
          "text": [
            "[[20692 23710]\n",
            " [20060 23957]]\n"
          ],
          "name": "stdout"
        }
      ]
    },
    {
      "cell_type": "code",
      "metadata": {
        "id": "2RU6Ws4fR_8s",
        "colab_type": "code",
        "outputId": "e41852c3-469b-46ad-bf08-1b34063273c3",
        "colab": {
          "base_uri": "https://localhost:8080/",
          "height": 68
        }
      },
      "source": [
        "print(\"PRECISION SCORE :\",metrics.precision_score(y_test, y_pred_class))\n",
        "print(\"RECALL SCORE :\", metrics.recall_score(y_test, y_pred_class))\n",
        "print(\"F1 SCORE :\",metrics.f1_score(y_test, y_pred_class))"
      ],
      "execution_count": 103,
      "outputs": [
        {
          "output_type": "stream",
          "text": [
            "PRECISION SCORE : 0.5025908909727904\n",
            "RECALL SCORE : 0.5442669877547311\n",
            "F1 SCORE : 0.5225993630295362\n"
          ],
          "name": "stdout"
        }
      ]
    },
    {
      "cell_type": "code",
      "metadata": {
        "id": "mqoL4N4rjtKc",
        "colab_type": "code",
        "colab": {}
      },
      "source": [
        "from sklearn.svm import SVC\n"
      ],
      "execution_count": 0,
      "outputs": []
    },
    {
      "cell_type": "markdown",
      "metadata": {
        "id": "5xyoRQYis6Vv",
        "colab_type": "text"
      },
      "source": [
        "**Lets evaluate SVM model with non linear kernel with penalizing factor i.e cost sensitive training**"
      ]
    },
    {
      "cell_type": "markdown",
      "metadata": {
        "id": "HCmgmY_40QYL",
        "colab_type": "text"
      },
      "source": [
        "**Unable to evaluate SVM (penalized SVM model here) due to computational limitation here**"
      ]
    },
    {
      "cell_type": "code",
      "metadata": {
        "id": "MNZMSsDYj4EE",
        "colab_type": "code",
        "outputId": "b2360382-10bc-4fe6-8b87-e3ad0c234ded",
        "colab": {
          "base_uri": "https://localhost:8080/",
          "height": 105
        }
      },
      "source": [
        "# model\n",
        "non_linear_model = SVC(kernel='rbf',class_weight='balanced',probability=True)\n",
        "\n",
        "# fit\n",
        "non_linear_model.fit(X_train, y_train)\n",
        "\n",
        "# predict\n",
        "y_pred = non_linear_model.predict(X_test)"
      ],
      "execution_count": 0,
      "outputs": [
        {
          "output_type": "stream",
          "text": [
            "/usr/local/lib/python3.6/dist-packages/sklearn/utils/validation.py:761: DataConversionWarning: A column-vector y was passed when a 1d array was expected. Please change the shape of y to (n_samples, ), for example using ravel().\n",
            "  y = column_or_1d(y, warn=True)\n",
            "/usr/local/lib/python3.6/dist-packages/sklearn/svm/base.py:196: FutureWarning: The default value of gamma will change from 'auto' to 'scale' in version 0.22 to account better for unscaled features. Set gamma explicitly to 'auto' or 'scale' to avoid this warning.\n",
            "  \"avoid this warning.\", FutureWarning)\n"
          ],
          "name": "stderr"
        }
      ]
    },
    {
      "cell_type": "code",
      "metadata": {
        "id": "HLhIdT-WkOI9",
        "colab_type": "code",
        "colab": {}
      },
      "source": [
        "# confusion matrix and accuracy\n",
        "\n",
        "# accuracy\n",
        "print(\"accuracy:\", metrics.accuracy_score(y_true=y_test, y_pred=y_pred), \"\\n\")\n",
        "\n",
        "# cm\n",
        "print(metrics.confusion_matrix(y_true=y_test, y_pred=y_pred))"
      ],
      "execution_count": 0,
      "outputs": []
    },
    {
      "cell_type": "markdown",
      "metadata": {
        "id": "laSwcLmVtTMc",
        "colab_type": "text"
      },
      "source": [
        "**Lets evaluate Decision Tree Classifier Algorithm alongwith Grid Search**"
      ]
    },
    {
      "cell_type": "code",
      "metadata": {
        "id": "ne7Lj1HTwiRu",
        "colab_type": "code",
        "colab": {}
      },
      "source": [
        "from sklearn.model_selection import KFold\n",
        "from sklearn.model_selection import GridSearchCV"
      ],
      "execution_count": 0,
      "outputs": []
    },
    {
      "cell_type": "code",
      "metadata": {
        "id": "piECs18CmXYd",
        "colab_type": "code",
        "outputId": "6d286bc2-8394-4b11-c582-fbb35fb23821",
        "colab": {
          "base_uri": "https://localhost:8080/",
          "height": 275
        }
      },
      "source": [
        "# Importing decision tree classifier from sklearn library\n",
        "from sklearn.tree import DecisionTreeClassifier\n",
        "# Create the parameter grid \n",
        "param_grid = {\n",
        "    'max_depth': range(5, 15, 5),\n",
        "    'min_samples_leaf': range(50, 150, 50),\n",
        "    'min_samples_split': range(50, 150, 50),\n",
        "    'criterion': [\"entropy\", \"gini\"]\n",
        "}\n",
        "\n",
        "n_folds = 5\n",
        "# Instantiate the grid search model\n",
        "dtree = DecisionTreeClassifier()\n",
        "grid_search = GridSearchCV(estimator = dtree, param_grid = param_grid, \n",
        "                          cv = n_folds, verbose = 1)\n",
        "\n",
        "# Fit the grid search to the data\n",
        "grid_search.fit(X_train,y_train)"
      ],
      "execution_count": 105,
      "outputs": [
        {
          "output_type": "stream",
          "text": [
            "Fitting 5 folds for each of 16 candidates, totalling 80 fits\n"
          ],
          "name": "stdout"
        },
        {
          "output_type": "stream",
          "text": [
            "[Parallel(n_jobs=1)]: Using backend SequentialBackend with 1 concurrent workers.\n",
            "[Parallel(n_jobs=1)]: Done  80 out of  80 | elapsed:   13.8s finished\n"
          ],
          "name": "stderr"
        },
        {
          "output_type": "execute_result",
          "data": {
            "text/plain": [
              "GridSearchCV(cv=5, error_score='raise-deprecating',\n",
              "       estimator=DecisionTreeClassifier(class_weight=None, criterion='gini', max_depth=None,\n",
              "            max_features=None, max_leaf_nodes=None,\n",
              "            min_impurity_decrease=0.0, min_impurity_split=None,\n",
              "            min_samples_leaf=1, min_samples_split=2,\n",
              "            min_weight_fraction_leaf=0.0, presort=False, random_state=None,\n",
              "            splitter='best'),\n",
              "       fit_params=None, iid='warn', n_jobs=None,\n",
              "       param_grid={'max_depth': range(5, 15, 5), 'min_samples_leaf': range(50, 150, 50), 'min_samples_split': range(50, 150, 50), 'criterion': ['entropy', 'gini']},\n",
              "       pre_dispatch='2*n_jobs', refit=True, return_train_score='warn',\n",
              "       scoring=None, verbose=1)"
            ]
          },
          "metadata": {
            "tags": []
          },
          "execution_count": 105
        }
      ]
    },
    {
      "cell_type": "code",
      "metadata": {
        "id": "mvwbN_5KwC5G",
        "colab_type": "code",
        "outputId": "7ea92219-bb32-4a0b-a814-c25850a2c037",
        "colab": {
          "base_uri": "https://localhost:8080/",
          "height": 136
        }
      },
      "source": [
        "# printing the optimal accuracy score and hyperparameters\n",
        "print(\"best accuracy\", grid_search.best_score_)\n",
        "print(grid_search.best_estimator_)"
      ],
      "execution_count": 106,
      "outputs": [
        {
          "output_type": "stream",
          "text": [
            "best accuracy 0.5535774008889578\n",
            "DecisionTreeClassifier(class_weight=None, criterion='entropy', max_depth=10,\n",
            "            max_features=None, max_leaf_nodes=None,\n",
            "            min_impurity_decrease=0.0, min_impurity_split=None,\n",
            "            min_samples_leaf=50, min_samples_split=50,\n",
            "            min_weight_fraction_leaf=0.0, presort=False, random_state=None,\n",
            "            splitter='best')\n"
          ],
          "name": "stdout"
        }
      ]
    },
    {
      "cell_type": "markdown",
      "metadata": {
        "id": "fuLZvL08wzFH",
        "colab_type": "text"
      },
      "source": [
        "**Build model with best parameters**"
      ]
    },
    {
      "cell_type": "code",
      "metadata": {
        "id": "CrvZLT5RwxZU",
        "colab_type": "code",
        "outputId": "196dec39-dd64-4262-e296-50c5d0361e31",
        "colab": {
          "base_uri": "https://localhost:8080/",
          "height": 119
        }
      },
      "source": [
        "# model with optimal hyperparameters\n",
        "clf_entropy = DecisionTreeClassifier(criterion = \"entropy\", \n",
        "                                  random_state = 100,\n",
        "                                  max_depth=10, \n",
        "                                  min_samples_leaf=50,\n",
        "                                  min_samples_split=50)\n",
        "clf_entropy.fit(X_train, y_train)"
      ],
      "execution_count": 107,
      "outputs": [
        {
          "output_type": "execute_result",
          "data": {
            "text/plain": [
              "DecisionTreeClassifier(class_weight=None, criterion='entropy', max_depth=10,\n",
              "            max_features=None, max_leaf_nodes=None,\n",
              "            min_impurity_decrease=0.0, min_impurity_split=None,\n",
              "            min_samples_leaf=50, min_samples_split=50,\n",
              "            min_weight_fraction_leaf=0.0, presort=False, random_state=100,\n",
              "            splitter='best')"
            ]
          },
          "metadata": {
            "tags": []
          },
          "execution_count": 107
        }
      ]
    },
    {
      "cell_type": "code",
      "metadata": {
        "id": "PILEt6Znw_k_",
        "colab_type": "code",
        "outputId": "c2d7f227-8556-49f6-cf4b-dd3bf0dcec09",
        "colab": {
          "base_uri": "https://localhost:8080/",
          "height": 34
        }
      },
      "source": [
        "# accuracy score\n",
        "clf_entropy.score(X_test,y_test)"
      ],
      "execution_count": 108,
      "outputs": [
        {
          "output_type": "execute_result",
          "data": {
            "text/plain": [
              "0.5553896786889696"
            ]
          },
          "metadata": {
            "tags": []
          },
          "execution_count": 108
        }
      ]
    },
    {
      "cell_type": "code",
      "metadata": {
        "id": "jIrijs-emgZ1",
        "colab_type": "code",
        "outputId": "7a095771-2d51-4b03-cb43-1db9db6b5aa3",
        "colab": {
          "base_uri": "https://localhost:8080/",
          "height": 170
        }
      },
      "source": [
        "from sklearn.metrics import classification_report, confusion_matrix, accuracy_score\n",
        "# Making predictions\n",
        "y_pred_dtree = clf_entropy.predict(X_test)\n",
        "print(classification_report(y_test, y_pred_dtree))\n"
      ],
      "execution_count": 109,
      "outputs": [
        {
          "output_type": "stream",
          "text": [
            "              precision    recall  f1-score   support\n",
            "\n",
            "           0       0.56      0.52      0.54     44402\n",
            "           1       0.55      0.59      0.57     44017\n",
            "\n",
            "   micro avg       0.56      0.56      0.56     88419\n",
            "   macro avg       0.56      0.56      0.55     88419\n",
            "weighted avg       0.56      0.56      0.55     88419\n",
            "\n"
          ],
          "name": "stdout"
        }
      ]
    },
    {
      "cell_type": "markdown",
      "metadata": {
        "id": "Ocz7DjEZ2TP0",
        "colab_type": "text"
      },
      "source": [
        "**Lets evaluate one of the boosting algorithms XGBoost with default configuration**"
      ]
    },
    {
      "cell_type": "code",
      "metadata": {
        "id": "OP-qMuHm3tr5",
        "colab_type": "code",
        "colab": {}
      },
      "source": [
        "from sklearn.ensemble import AdaBoostClassifier\n",
        "from sklearn.ensemble import GradientBoostingClassifier\n",
        "import xgboost as xgb\n",
        "from xgboost import XGBClassifier\n",
        "from xgboost import plot_importance"
      ],
      "execution_count": 0,
      "outputs": []
    },
    {
      "cell_type": "code",
      "metadata": {
        "id": "9mWw133w4U6b",
        "colab_type": "code",
        "outputId": "63c08693-a62b-47d1-d5a5-79ef3b3c439e",
        "colab": {
          "base_uri": "https://localhost:8080/",
          "height": 119
        }
      },
      "source": [
        "# fit model on training data with default hyperparameters\n",
        "model = XGBClassifier()\n",
        "model.fit(X_train, y_train)"
      ],
      "execution_count": 111,
      "outputs": [
        {
          "output_type": "execute_result",
          "data": {
            "text/plain": [
              "XGBClassifier(base_score=0.5, booster='gbtree', colsample_bylevel=1,\n",
              "       colsample_bytree=1, gamma=0, learning_rate=0.1, max_delta_step=0,\n",
              "       max_depth=3, min_child_weight=1, missing=None, n_estimators=100,\n",
              "       n_jobs=1, nthread=None, objective='binary:logistic', random_state=0,\n",
              "       reg_alpha=0, reg_lambda=1, scale_pos_weight=1, seed=None,\n",
              "       silent=True, subsample=1)"
            ]
          },
          "metadata": {
            "tags": []
          },
          "execution_count": 111
        }
      ]
    },
    {
      "cell_type": "code",
      "metadata": {
        "id": "0XGpEji_4vUl",
        "colab_type": "code",
        "colab": {}
      },
      "source": [
        "y_predXG = model.predict(X_test)"
      ],
      "execution_count": 0,
      "outputs": []
    },
    {
      "cell_type": "code",
      "metadata": {
        "id": "A42d80WAis6y",
        "colab_type": "code",
        "colab": {
          "base_uri": "https://localhost:8080/",
          "height": 34
        },
        "outputId": "19207528-afb5-475a-f482-5a5c69b11d1b"
      },
      "source": [
        "# accuracy score\n",
        "model.score(X_test,y_test)"
      ],
      "execution_count": 114,
      "outputs": [
        {
          "output_type": "execute_result",
          "data": {
            "text/plain": [
              "0.5432203485676156"
            ]
          },
          "metadata": {
            "tags": []
          },
          "execution_count": 114
        }
      ]
    },
    {
      "cell_type": "code",
      "metadata": {
        "id": "Zg7gBXeP46x_",
        "colab_type": "code",
        "outputId": "2cfbd470-daee-493f-bbed-cbd873605071",
        "colab": {
          "base_uri": "https://localhost:8080/",
          "height": 170
        }
      },
      "source": [
        "print(classification_report(y_test, y_predXG))"
      ],
      "execution_count": 115,
      "outputs": [
        {
          "output_type": "stream",
          "text": [
            "              precision    recall  f1-score   support\n",
            "\n",
            "           0       0.55      0.53      0.54     44402\n",
            "           1       0.54      0.56      0.55     44017\n",
            "\n",
            "   micro avg       0.54      0.54      0.54     88419\n",
            "   macro avg       0.54      0.54      0.54     88419\n",
            "weighted avg       0.54      0.54      0.54     88419\n",
            "\n"
          ],
          "name": "stdout"
        }
      ]
    },
    {
      "cell_type": "markdown",
      "metadata": {
        "id": "2wyQIvpVotrC",
        "colab_type": "text"
      },
      "source": [
        "We are seeing Decision Tree Classifier is slightly better in terms of accuracy and in classification report than Multinominal Naive Bayes and XG Boost"
      ]
    },
    {
      "cell_type": "code",
      "metadata": {
        "id": "UXTsAsvlo-RJ",
        "colab_type": "code",
        "colab": {}
      },
      "source": [
        "#Prediction for Decision Tree Clssifier\n",
        "pred=clf_entropy.predict_proba(X_test)"
      ],
      "execution_count": 0,
      "outputs": []
    },
    {
      "cell_type": "code",
      "metadata": {
        "id": "21q1_fDHuSto",
        "colab_type": "code",
        "colab": {}
      },
      "source": [
        "#Check auc for Decision Tree Classifier\n",
        "from sklearn.metrics import roc_curve, auc\n",
        "false_positive_rate, true_positive_rate, thresholds = roc_curve(y_test, y_pred_dtree)\n",
        "roc_auc = auc(false_positive_rate, true_positive_rate)"
      ],
      "execution_count": 0,
      "outputs": []
    },
    {
      "cell_type": "code",
      "metadata": {
        "id": "cX1LwGmtuyH9",
        "colab_type": "code",
        "colab": {
          "base_uri": "https://localhost:8080/",
          "height": 34
        },
        "outputId": "57a3b135-e04c-46e9-a31d-027426d9406d"
      },
      "source": [
        "# area under the curve\n",
        "print (roc_auc)"
      ],
      "execution_count": 118,
      "outputs": [
        {
          "output_type": "stream",
          "text": [
            "0.5555534155879026\n"
          ],
          "name": "stdout"
        }
      ]
    },
    {
      "cell_type": "markdown",
      "metadata": {
        "id": "f6K9Ph9ZvxAj",
        "colab_type": "text"
      },
      "source": [
        "**CONCLUSION\n",
        "1)From the  models considered above models seem to do only marginally better than a random guess which is of 50% accuracy\n",
        "2)Strong possibbility that hour of the day when question was posted and day of the week when question was posted are not strong indicators to predict a question will be answered within a week or not\n",
        "POSSIBLE NEXT STEPS\n",
        "1)Build model adding additional attributes like tags associated with question posted**"
      ]
    }
  ]
}